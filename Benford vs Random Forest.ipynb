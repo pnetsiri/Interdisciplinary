{
 "cells": [
  {
   "cell_type": "code",
   "execution_count": 9,
   "id": "622a4e8b",
   "metadata": {},
   "outputs": [],
   "source": [
    "import pandas as pd\n",
    "import numpy as np\n",
    "import joblib  # For saving and loading the model\n",
    "from scipy.stats import chisquare\n",
    "from sklearn.ensemble import RandomForestClassifier"
   ]
  },
  {
   "cell_type": "code",
   "execution_count": 10,
   "id": "e642f956",
   "metadata": {},
   "outputs": [],
   "source": [
    "# Read the manipulated dataset\n",
    "dfM = pd.read_csv(\"mtcars_manipulated.csv\")\n",
    "\n",
    "# Read the original dataset\n",
    "dfO = pd.read_csv(\"mtcars_original.csv\")\n",
    "\n",
    "# Select only relavant variables\n",
    "X_M = dfM[['mpg', 'hp', 'wt']]\n",
    "X_O = dfO[['mpg', 'hp', 'wt']]\n"
   ]
  },
  {
   "cell_type": "code",
   "execution_count": 11,
   "id": "17750a80",
   "metadata": {},
   "outputs": [
    {
     "name": "stdout",
     "output_type": "stream",
     "text": [
      "=== Random Forest Classification ===\n",
      "\n",
      "mtcars_manipulated.csv classified as: Manipulated\n",
      "mtcars_original.csv classified as: Not Manipulated\n"
     ]
    }
   ],
   "source": [
    "# Random Forest Classifier\n",
    "# -----------------------------\n",
    "\n",
    "# Load trained RandomForest model\n",
    "# -----------------------------\n",
    "# Load a pre-trained Random Forest Model\n",
    "model = joblib.load(\"myRFmodel.pkl\")\n",
    "\n",
    "# -----------------------------\n",
    "# Classify using loaded model\n",
    "# -----------------------------\n",
    "classifiedM = model.predict(X_M)\n",
    "classifiedO = model.predict(X_O)\n",
    "\n",
    "# -----------------------------\n",
    "# Decide if the predicted is manipulated by majority\n",
    "# -----------------------------\n",
    "threshold = 0.5  \n",
    "print(\"=== Random Forest Classification ===\\n\")\n",
    "\n",
    "manipulated_ratioM = np.mean(classifiedM)\n",
    "if manipulated_ratioM >= threshold:\n",
    "    dataset_classificationM = \"Manipulated\"\n",
    "else:\n",
    "    dataset_classificationM = \"Not Manipulated\"\n",
    "print(f\"mtcars_manipulated.csv classified as: {dataset_classificationM}\")\n",
    "    \n",
    "manipulated_ratioO = np.mean(classifiedO)\n",
    "if manipulated_ratioO >= threshold:\n",
    "    dataset_classificationO = \"Manipulated\"\n",
    "else:\n",
    "    dataset_classificationO = \"Not Manipulated\"\n",
    "print(f\"mtcars_original.csv classified as: {dataset_classificationO}\")\n",
    "\n"
   ]
  },
  {
   "cell_type": "code",
   "execution_count": 12,
   "id": "261b34f8",
   "metadata": {},
   "outputs": [],
   "source": [
    "#Benford functions\n",
    "\n",
    "def benford_expected_distribution():\n",
    "    return np.array([np.log10(1 + 1/d) for d in range(1, 10)])\n",
    "\n",
    "def extract_first_digit(series):\n",
    "    return (\n",
    "        series.dropna()\n",
    "        .astype(str)\n",
    "        .str.replace(\".\", \"\", regex=False)\n",
    "        .str.extract(r'([1-9])')[0]\n",
    "        .dropna()\n",
    "        .astype(int)\n",
    "    )\n",
    "\n",
    "def perform_benford_test(series):\n",
    "    first_digits = extract_first_digit(series)\n",
    "    observed_counts = first_digits.value_counts().sort_index()\n",
    "    observed = observed_counts.reindex(range(1, 10), fill_value=0).values\n",
    "    expected = benford_expected_distribution() * observed.sum()\n",
    "    chi2, p = chisquare(f_obs=observed, f_exp=expected)\n",
    "    return chi2, p"
   ]
  },
  {
   "cell_type": "code",
   "execution_count": 13,
   "id": "cefa730d",
   "metadata": {},
   "outputs": [
    {
     "name": "stdout",
     "output_type": "stream",
     "text": [
      "=== Benford Classification ===\n",
      "\n",
      "mtcars_manipulated.csv\n",
      "Variable analyzed: mpg\n",
      "Chi-square statistic: 74.302\n",
      "P-value: 0.000000000000681\n",
      "Dataset classified as: Manipulated\n",
      "\n",
      "mtcars_original.csv\n",
      "Chi-square statistic: 23.383\n",
      "P-value: 0.002905835458132\n",
      "Dataset classified as: Not Manipulated\n"
     ]
    }
   ],
   "source": [
    "#Benford Classifier \n",
    "\n",
    "variable = 'mpg'\n",
    "chi2_statM, p_valueM = perform_benford_test(X_M[variable])\n",
    "chi2_statO, p_valueO = perform_benford_test(X_O[variable])\n",
    "# -----------------------------\n",
    "# Classify dataset:  Find extreme manipulations\n",
    "#  30.58\t≈ 0.0001\tDetects only the most extreme manipulations\n",
    "# -----------------------------\n",
    "if chi2_statM > 30.58 and p_valueM < 0.0001:\n",
    "    classificationM = \"Manipulated\"\n",
    "else:\n",
    "    classificationM = \"Not Manipulated\"\n",
    "    \n",
    "if chi2_statO > 30.58 and p_valueO < 0.0001:\n",
    "    classificationO = \"Manipulated\"\n",
    "else:\n",
    "    classificationO = \"Not Manipulated\"\n",
    "\n",
    "# -----------------------------\n",
    "# 5. Output results\n",
    "# -----------------------------\n",
    "print(\"=== Benford Classification ===\")\n",
    "print(\"\\nmtcars_manipulated.csv\")\n",
    "print(f\"Variable analyzed: {variable}\")\n",
    "print(f\"Chi-square statistic: {chi2_statM:.3f}\")\n",
    "print(f\"P-value: {p_valueM:.15f}\")\n",
    "print(f\"Dataset classified as: {classificationM}\")\n",
    "print(\"\\nmtcars_original.csv\")\n",
    "print(f\"Chi-square statistic: {chi2_statO:.3f}\")\n",
    "print(f\"P-value: {p_valueO:.15f}\")\n",
    "print(f\"Dataset classified as: {classificationO}\")"
   ]
  },
  {
   "cell_type": "code",
   "execution_count": null,
   "id": "679d19a6",
   "metadata": {},
   "outputs": [],
   "source": []
  }
 ],
 "metadata": {
  "kernelspec": {
   "display_name": "Python 3 (ipykernel)",
   "language": "python",
   "name": "python3"
  },
  "language_info": {
   "codemirror_mode": {
    "name": "ipython",
    "version": 3
   },
   "file_extension": ".py",
   "mimetype": "text/x-python",
   "name": "python",
   "nbconvert_exporter": "python",
   "pygments_lexer": "ipython3",
   "version": "3.8.0"
  }
 },
 "nbformat": 4,
 "nbformat_minor": 5
}
